{
 "cells": [
  {
   "cell_type": "markdown",
   "metadata": {},
   "source": [
    "# Day-8 Assignment-1 Solution"
   ]
  },
  {
   "cell_type": "markdown",
   "metadata": {},
   "source": [
    "Write a Decorator function"
   ]
  },
  {
   "cell_type": "code",
   "execution_count": 1,
   "metadata": {},
   "outputs": [],
   "source": [
    "def getInput(function):\n",
    "    def wrap_function():\n",
    "        print(\"\\nThis is a function to check whether a number is Odd or Even !!\\n\")\n",
    "        num = int(input(\"Enter a number to check: \"))\n",
    "        function(num)\n",
    "        print(\"\\nDone !!\")\n",
    "    return wrap_function"
   ]
  },
  {
   "cell_type": "code",
   "execution_count": 3,
   "metadata": {},
   "outputs": [],
   "source": [
    "@getInput\n",
    "def odd_even(num):\n",
    "    if num % 2 == 0:\n",
    "        print(\"\\nIt is an Even number !\")\n",
    "    else:\n",
    "        print(\"\\nIt is an Odd nuber !\")"
   ]
  },
  {
   "cell_type": "code",
   "execution_count": 4,
   "metadata": {},
   "outputs": [
    {
     "name": "stdout",
     "output_type": "stream",
     "text": [
      "\n",
      "This is a function to check whether a number is Odd or Even !!\n",
      "\n",
      "Enter a number to check: 48\n",
      "\n",
      "It is an Even number !\n",
      "\n",
      "Done !!\n"
     ]
    }
   ],
   "source": [
    "odd_even()"
   ]
  },
  {
   "cell_type": "code",
   "execution_count": 5,
   "metadata": {},
   "outputs": [
    {
     "name": "stdout",
     "output_type": "stream",
     "text": [
      "\n",
      "This is a function to check whether a number is Odd or Even !!\n",
      "\n",
      "Enter a number to check: 53\n",
      "\n",
      "It is an Odd nuber !\n",
      "\n",
      "Done !!\n"
     ]
    }
   ],
   "source": [
    "odd_even()"
   ]
  }
 ],
 "metadata": {
  "kernelspec": {
   "display_name": "Python 3",
   "language": "python",
   "name": "python3"
  },
  "language_info": {
   "codemirror_mode": {
    "name": "ipython",
    "version": 3
   },
   "file_extension": ".py",
   "mimetype": "text/x-python",
   "name": "python",
   "nbconvert_exporter": "python",
   "pygments_lexer": "ipython3",
   "version": "3.8.3"
  }
 },
 "nbformat": 4,
 "nbformat_minor": 4
}
