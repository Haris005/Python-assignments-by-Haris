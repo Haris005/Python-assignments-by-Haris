{
 "cells": [
  {
   "cell_type": "markdown",
   "metadata": {},
   "source": [
    "# Day-8 Assignment-2 Solution"
   ]
  },
  {
   "cell_type": "markdown",
   "metadata": {},
   "source": [
    "Exception Handling"
   ]
  },
  {
   "cell_type": "code",
   "execution_count": 2,
   "metadata": {},
   "outputs": [
    {
     "name": "stdout",
     "output_type": "stream",
     "text": [
      "not writable\n",
      "\n",
      "This is printed after handling errors and exceptions !! \n"
     ]
    }
   ],
   "source": [
    "try :\n",
    "    file = open(\"test.txt\",\"w\")\n",
    "    file.write(\"This is for creating a new file to read !\")\n",
    "    file.close()\n",
    "    file = open(\"test.txt\",\"r\")\n",
    "    file.write(\"This is a test for error and exception handling\")\n",
    "    file.close()\n",
    "    print(\"Success\")\n",
    "except Exception as error:\n",
    "    print(error)\n",
    "finally:\n",
    "    print(\"\\nThis is printed after handling errors and exceptions !! \")"
   ]
  }
 ],
 "metadata": {
  "kernelspec": {
   "display_name": "Python 3",
   "language": "python",
   "name": "python3"
  },
  "language_info": {
   "codemirror_mode": {
    "name": "ipython",
    "version": 3
   },
   "file_extension": ".py",
   "mimetype": "text/x-python",
   "name": "python",
   "nbconvert_exporter": "python",
   "pygments_lexer": "ipython3",
   "version": "3.8.3"
  }
 },
 "nbformat": 4,
 "nbformat_minor": 4
}
