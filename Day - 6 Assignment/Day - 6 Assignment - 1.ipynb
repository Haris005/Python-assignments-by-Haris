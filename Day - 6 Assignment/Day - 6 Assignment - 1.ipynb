{
 "cells": [
  {
   "cell_type": "markdown",
   "metadata": {},
   "source": [
    "# Day-6 Assignment-1 Solution"
   ]
  },
  {
   "cell_type": "markdown",
   "metadata": {},
   "source": [
    "Bank Account"
   ]
  },
  {
   "cell_type": "code",
   "execution_count": 14,
   "metadata": {},
   "outputs": [],
   "source": [
    "class bankAccount():\n",
    "    def __init__(self,ownerName,balance):\n",
    "        self.ownerName = ownerName\n",
    "        self.balance = balance\n",
    "        \n",
    "    def deposit(self):\n",
    "        amount = float(input(\"Enter amount to be deposited: \"))\n",
    "        self.balance += amount\n",
    "        print(\"\\nAmount Deposited:\",amount)\n",
    "        \n",
    "    def withdraw(self):\n",
    "        amount = float(input(\"Enter amount to be withdrawn: \"))\n",
    "        if self.balance >= amount:\n",
    "            self.balance -= amount\n",
    "            print(\"\\nYou withdrawn: \",amount)\n",
    "        else:\n",
    "            print(\"Insufficient Balance !!\")\n",
    "            \n",
    "    def getDetails(self):\n",
    "        print(\"\\nOwner Name: \",self.ownerName)\n",
    "        print(\"Available Balance: \",self.balance)"
   ]
  },
  {
   "cell_type": "code",
   "execution_count": 15,
   "metadata": {},
   "outputs": [
    {
     "name": "stdout",
     "output_type": "stream",
     "text": [
      "Enter amount to be deposited: 10000\n",
      "\n",
      "Amount Deposited: 10000.0\n"
     ]
    }
   ],
   "source": [
    "acc_1 = bankAccount(\"Haris\",0)\n",
    "acc_1.deposit()"
   ]
  },
  {
   "cell_type": "code",
   "execution_count": 16,
   "metadata": {},
   "outputs": [
    {
     "name": "stdout",
     "output_type": "stream",
     "text": [
      "Enter amount to be withdrawn: 6000\n",
      "\n",
      "You withdrawn:  6000.0\n",
      "\n",
      "Owner Name:  Haris\n",
      "Available Balance:  4000.0\n"
     ]
    }
   ],
   "source": [
    "acc_1.withdraw()\n",
    "acc_1.getDetails()"
   ]
  },
  {
   "cell_type": "code",
   "execution_count": 17,
   "metadata": {},
   "outputs": [
    {
     "name": "stdout",
     "output_type": "stream",
     "text": [
      "Enter amount to be deposited: 12000\n",
      "\n",
      "Amount Deposited: 12000.0\n"
     ]
    }
   ],
   "source": [
    "acc_2 = bankAccount(\"Sai\",3000)\n",
    "acc_2.deposit()"
   ]
  },
  {
   "cell_type": "code",
   "execution_count": 18,
   "metadata": {},
   "outputs": [
    {
     "name": "stdout",
     "output_type": "stream",
     "text": [
      "\n",
      "Owner Name:  Sai\n",
      "Available Balance:  15000.0\n"
     ]
    }
   ],
   "source": [
    "acc_2.getDetails()"
   ]
  },
  {
   "cell_type": "code",
   "execution_count": 19,
   "metadata": {},
   "outputs": [
    {
     "name": "stdout",
     "output_type": "stream",
     "text": [
      "Enter amount to be withdrawn: 20000\n",
      "Insufficient Balance !!\n"
     ]
    }
   ],
   "source": [
    "acc_2.withdraw()"
   ]
  }
 ],
 "metadata": {
  "kernelspec": {
   "display_name": "Python 3",
   "language": "python",
   "name": "python3"
  },
  "language_info": {
   "codemirror_mode": {
    "name": "ipython",
    "version": 3
   },
   "file_extension": ".py",
   "mimetype": "text/x-python",
   "name": "python",
   "nbconvert_exporter": "python",
   "pygments_lexer": "ipython3",
   "version": "3.8.3"
  }
 },
 "nbformat": 4,
 "nbformat_minor": 4
}
