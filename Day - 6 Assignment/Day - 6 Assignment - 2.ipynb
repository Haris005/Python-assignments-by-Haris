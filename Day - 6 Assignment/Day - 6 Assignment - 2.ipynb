{
 "cells": [
  {
   "cell_type": "markdown",
   "metadata": {},
   "source": [
    "# Day-6 Assignment-2 Solution"
   ]
  },
  {
   "cell_type": "markdown",
   "metadata": {},
   "source": [
    "Volume and Surface area of a cone"
   ]
  },
  {
   "cell_type": "code",
   "execution_count": 27,
   "metadata": {},
   "outputs": [],
   "source": [
    "import math\n",
    "class cone():\n",
    "    def __init__(self,radius,height):\n",
    "        self.radius = radius\n",
    "        self.height = height\n",
    "        \n",
    "    def volume(self):\n",
    "        vol = float(math.pi * (self.radius*self.radius) * (self.height/3))\n",
    "        print(\"\\nThe volume of the cone is: \",vol)\n",
    "        \n",
    "    def surfaceArea(self):\n",
    "        base = float(math.pi * (self.radius*self.radius))\n",
    "        side = float(math.pi * self.radius * math.sqrt(self.radius*self.radius + self.height*self.height))\n",
    "        print(\"\\nThe base surface area of the cone is: \",base)\n",
    "        print(\"\\nThe slant surface area of the cone is: \",side)"
   ]
  },
  {
   "cell_type": "code",
   "execution_count": 28,
   "metadata": {},
   "outputs": [
    {
     "name": "stdout",
     "output_type": "stream",
     "text": [
      "\n",
      "The volume of the cone is:  1570.7963267948967\n",
      "\n",
      "The base surface area of the cone is:  314.1592653589793\n",
      "\n",
      "The slant surface area of the cone is:  566.3586699569488\n"
     ]
    }
   ],
   "source": [
    "cone_1 = cone(10,15)\n",
    "cone_1.volume()\n",
    "cone_1.surfaceArea()"
   ]
  }
 ],
 "metadata": {
  "kernelspec": {
   "display_name": "Python 3",
   "language": "python",
   "name": "python3"
  },
  "language_info": {
   "codemirror_mode": {
    "name": "ipython",
    "version": 3
   },
   "file_extension": ".py",
   "mimetype": "text/x-python",
   "name": "python",
   "nbconvert_exporter": "python",
   "pygments_lexer": "ipython3",
   "version": "3.8.3"
  }
 },
 "nbformat": 4,
 "nbformat_minor": 4
}
