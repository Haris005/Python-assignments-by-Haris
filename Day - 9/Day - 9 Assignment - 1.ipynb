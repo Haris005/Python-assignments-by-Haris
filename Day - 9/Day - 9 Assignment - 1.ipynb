{
 "cells": [
  {
   "cell_type": "markdown",
   "metadata": {},
   "source": [
    "# Day-9 Assignment-1 Solution"
   ]
  },
  {
   "cell_type": "markdown",
   "metadata": {},
   "source": [
    "Unit Testing using Pylint and unittest library"
   ]
  },
  {
   "cell_type": "code",
   "execution_count": 2,
   "metadata": {},
   "outputs": [
    {
     "name": "stdout",
     "output_type": "stream",
     "text": [
      "Requirement already satisfied: pylint in d:\\users\\acer\\anaconda3\\lib\\site-packages (2.5.3)\n",
      "Requirement already satisfied: toml>=0.7.1 in d:\\users\\acer\\anaconda3\\lib\\site-packages (from pylint) (0.10.1)\n",
      "Requirement already satisfied: astroid<=2.5,>=2.4.0 in d:\\users\\acer\\anaconda3\\lib\\site-packages (from pylint) (2.4.2)\n",
      "Requirement already satisfied: mccabe<0.7,>=0.6 in d:\\users\\acer\\anaconda3\\lib\\site-packages (from pylint) (0.6.1)\n",
      "Requirement already satisfied: isort<5,>=4.2.5 in d:\\users\\acer\\anaconda3\\lib\\site-packages (from pylint) (4.3.21)\n",
      "Requirement already satisfied: colorama; sys_platform == \"win32\" in d:\\users\\acer\\anaconda3\\lib\\site-packages (from pylint) (0.4.3)\n",
      "Requirement already satisfied: wrapt~=1.11 in d:\\users\\acer\\anaconda3\\lib\\site-packages (from astroid<=2.5,>=2.4.0->pylint) (1.11.2)\n",
      "Requirement already satisfied: lazy-object-proxy==1.4.* in d:\\users\\acer\\anaconda3\\lib\\site-packages (from astroid<=2.5,>=2.4.0->pylint) (1.4.3)\n",
      "Requirement already satisfied: six~=1.12 in d:\\users\\acer\\anaconda3\\lib\\site-packages (from astroid<=2.5,>=2.4.0->pylint) (1.15.0)\n"
     ]
    }
   ],
   "source": [
    "! pip install pylint"
   ]
  },
  {
   "cell_type": "code",
   "execution_count": 8,
   "metadata": {},
   "outputs": [
    {
     "name": "stdout",
     "output_type": "stream",
     "text": [
      "Requirement already satisfied: unittest2 in d:\\users\\acer\\anaconda3\\lib\\site-packages (1.1.0)\n",
      "Requirement already satisfied: six>=1.4 in d:\\users\\acer\\anaconda3\\lib\\site-packages (from unittest2) (1.15.0)\n",
      "Requirement already satisfied: argparse in d:\\users\\acer\\anaconda3\\lib\\site-packages (from unittest2) (1.4.0)\n",
      "Requirement already satisfied: traceback2 in d:\\users\\acer\\anaconda3\\lib\\site-packages (from unittest2) (1.4.0)\n",
      "Requirement already satisfied: linecache2 in d:\\users\\acer\\anaconda3\\lib\\site-packages (from traceback2->unittest2) (1.0.0)\n"
     ]
    }
   ],
   "source": [
    "! pip install unittest"
   ]
  },
  {
   "cell_type": "code",
   "execution_count": 28,
   "metadata": {},
   "outputs": [
    {
     "name": "stdout",
     "output_type": "stream",
     "text": [
      "Overwriting prime_nums.py\n"
     ]
    }
   ],
   "source": [
    "%%writefile prime_nums.py\n",
    "'''\n",
    "This is a code for checking Prime Numbers\n",
    "'''\n",
    "def is_prime():\n",
    "    '''\n",
    "    This a function for checking a given number is Prime or not\n",
    "    '''\n",
    "    num = int(input(\"\\nEnter a number:\"))\n",
    "    if num > 1:\n",
    "        for i in range(2, num):\n",
    "            if (num % i) == 0:\n",
    "                print(num, \"is not a Prime number!\")\n",
    "                break\n",
    "        else:\n",
    "            print(num, \"is a Prime number!\")\n",
    "is_prime()"
   ]
  },
  {
   "cell_type": "code",
   "execution_count": 29,
   "metadata": {},
   "outputs": [
    {
     "name": "stdout",
     "output_type": "stream",
     "text": [
      "\n",
      "-------------------------------------------------------------------\n",
      "\n",
      "Your code has been rated at 10.00/10 (previous run: 8.89/10, +1.11)\n",
      "\n",
      "\n",
      "\n"
     ]
    }
   ],
   "source": [
    "! pylint \"prime_nums.py\""
   ]
  },
  {
   "cell_type": "code",
   "execution_count": 11,
   "metadata": {},
   "outputs": [
    {
     "name": "stdout",
     "output_type": "stream",
     "text": [
      "Overwriting testprime_nums.py\n"
     ]
    }
   ],
   "source": [
    "%%writefile testprime_nums.py\n",
    "\n",
    "import unittest\n",
    "import prime_nums\n",
    "\n",
    "class testPrime(unittest.testcase):\n",
    "    def testEven(self):\n",
    "        num1 = 10\n",
    "        result = prime_nums.is_prime(num1)\n",
    "        self.asserEquals(result, \"10 is a Prime number!\")\n",
    "        \n",
    "    def testOdd(self):\n",
    "        num2 = 13\n",
    "        result = prime_nums.is_prime(num2)\n",
    "        self.assertEquals(result, \"13 is not a Prime number!\")\n",
    "        \n",
    "if __name__ == \"__main__\":\n",
    "    unittest.main()"
   ]
  },
  {
   "cell_type": "code",
   "execution_count": null,
   "metadata": {},
   "outputs": [],
   "source": [
    "! python testprime_nums.py"
   ]
  }
 ],
 "metadata": {
  "kernelspec": {
   "display_name": "Python 3",
   "language": "python",
   "name": "python3"
  },
  "language_info": {
   "codemirror_mode": {
    "name": "ipython",
    "version": 3
   },
   "file_extension": ".py",
   "mimetype": "text/x-python",
   "name": "python",
   "nbconvert_exporter": "python",
   "pygments_lexer": "ipython3",
   "version": "3.8.3"
  }
 },
 "nbformat": 4,
 "nbformat_minor": 4
}
