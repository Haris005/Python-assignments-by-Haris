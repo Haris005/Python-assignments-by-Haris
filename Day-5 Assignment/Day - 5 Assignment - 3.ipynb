{
 "cells": [
  {
   "cell_type": "markdown",
   "metadata": {},
   "source": [
    "# Day-5 Assignment-3 Solution"
   ]
  },
  {
   "cell_type": "markdown",
   "metadata": {},
   "source": [
    "Make a lambda function for capitalising the WHOLE sentence and map all the sentence in the list with the lambda function"
   ]
  },
  {
   "cell_type": "code",
   "execution_count": 7,
   "metadata": {},
   "outputs": [
    {
     "name": "stdout",
     "output_type": "stream",
     "text": [
      "['HEY THIS IS HARIS', 'I AM IN MUMBAI']\n"
     ]
    }
   ],
   "source": [
    "lst = [\"hey this is haris\",\"i am in mumbai\"]\n",
    "\n",
    "getCapital = lambda sent: sent.upper()\n",
    "\n",
    "newList = map(lambda sent: sent.upper(), lst)\n",
    "\n",
    "print(list(newList))\n",
    "    "
   ]
  }
 ],
 "metadata": {
  "kernelspec": {
   "display_name": "Python 3",
   "language": "python",
   "name": "python3"
  },
  "language_info": {
   "codemirror_mode": {
    "name": "ipython",
    "version": 3
   },
   "file_extension": ".py",
   "mimetype": "text/x-python",
   "name": "python",
   "nbconvert_exporter": "python",
   "pygments_lexer": "ipython3",
   "version": "3.8.3"
  }
 },
 "nbformat": 4,
 "nbformat_minor": 4
}
