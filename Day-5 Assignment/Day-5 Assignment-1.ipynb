{
 "cells": [
  {
   "cell_type": "markdown",
   "metadata": {},
   "source": [
    "# Day-5 Assignment-1 Solution"
   ]
  },
  {
   "cell_type": "markdown",
   "metadata": {},
   "source": [
    "Program to find the sub-list in the given list in the same order."
   ]
  },
  {
   "cell_type": "code",
   "execution_count": 2,
   "metadata": {},
   "outputs": [
    {
     "name": "stdout",
     "output_type": "stream",
     "text": [
      "Enter no. of elements in the list: 8\n",
      "1\n",
      "5\n",
      "6\n",
      "4\n",
      "1\n",
      "2\n",
      "3\n",
      "5\n",
      "\n",
      "The entered list is: [1, 5, 6, 4, 1, 2, 3, 5]\n",
      "The sub list is: [1, 1, 5]\n",
      "\n",
      "It's a Match !!\n"
     ]
    }
   ],
   "source": [
    "Listy = []\n",
    "n = int(input(\"Enter no. of elements in the list: \"))\n",
    "for i in range(0,n):\n",
    "    element = int(input())\n",
    "    Listy.append(element)\n",
    "    \n",
    "print(\"\\nThe entered list is: \" + str(list(Listy)))\n",
    "lst = [1,1,5]\n",
    "print(\"The sub list is: \" + str(list(lst)))\n",
    "\n",
    "flag = set(lst).issubset(set(Listy))\n",
    "j = 0\n",
    "for num in range (0,n):\n",
    "    if Listy[num] == lst[j]:\n",
    "        j = j + 1\n",
    "    \n",
    "if flag and j == 3: \n",
    "    print(\"\\nIt's a Match !!\")\n",
    "else:\n",
    "    print(\"\\nIt's a Gone !!\")"
   ]
  },
  {
   "cell_type": "code",
   "execution_count": null,
   "metadata": {},
   "outputs": [],
   "source": []
  }
 ],
 "metadata": {
  "kernelspec": {
   "display_name": "Python 3",
   "language": "python",
   "name": "python3"
  },
  "language_info": {
   "codemirror_mode": {
    "name": "ipython",
    "version": 3
   },
   "file_extension": ".py",
   "mimetype": "text/x-python",
   "name": "python",
   "nbconvert_exporter": "python",
   "pygments_lexer": "ipython3",
   "version": "3.8.3"
  }
 },
 "nbformat": 4,
 "nbformat_minor": 4
}
