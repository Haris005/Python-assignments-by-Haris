{
 "cells": [
  {
   "cell_type": "markdown",
   "metadata": {},
   "source": [
    "# Batch 7 Day-3 Assignment-1 Solution"
   ]
  },
  {
   "cell_type": "markdown",
   "metadata": {},
   "source": [
    "Instructions to pilot"
   ]
  },
  {
   "cell_type": "code",
   "execution_count": 3,
   "metadata": {},
   "outputs": [
    {
     "name": "stdout",
     "output_type": "stream",
     "text": [
      "\n",
      "What is the current altitude of plane (in ft)? : 1000\n",
      "\n",
      "Safe to land.\n",
      "\n",
      "\n",
      "What is the current altitude of plane (in ft)? : 4500\n",
      "\n",
      "Bring down the plane to 1000 ft !!\n",
      "\n",
      "\n",
      "What is the current altitude of plane (in ft)? : 6500\n",
      "\n",
      "Turn around and attempt later !!\n",
      "\n",
      "Done\n"
     ]
    }
   ],
   "source": [
    "i = 1\n",
    "for i in range(1,4):    #Using for loop to test all the cases.\n",
    "    height = int(input(\"\\nWhat is the current altitude of plane (in ft)? : \"))\n",
    "    if height <= 1000:\n",
    "        print(\"\\nSafe to land.\\n\")\n",
    "    elif height > 1000 and height <= 5000:\n",
    "        print(\"\\nBring down the plane to 1000 ft !!\\n\")\n",
    "    else:\n",
    "        print(\"\\nTurn around and attempt later !!\\n\")\n",
    "else:\n",
    "    print(\"Done\")"
   ]
  }
 ],
 "metadata": {
  "kernelspec": {
   "display_name": "Python 3",
   "language": "python",
   "name": "python3"
  },
  "language_info": {
   "codemirror_mode": {
    "name": "ipython",
    "version": 3
   },
   "file_extension": ".py",
   "mimetype": "text/x-python",
   "name": "python",
   "nbconvert_exporter": "python",
   "pygments_lexer": "ipython3",
   "version": "3.8.3"
  }
 },
 "nbformat": 4,
 "nbformat_minor": 4
}
