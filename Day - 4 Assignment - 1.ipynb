{
 "cells": [
  {
   "cell_type": "markdown",
   "metadata": {},
   "source": [
    "# Batch 7 Day-4 Assignment-1 Solution"
   ]
  },
  {
   "cell_type": "markdown",
   "metadata": {},
   "source": [
    "Find the first Armstrong number in the range from 1042000 to 702648265"
   ]
  },
  {
   "cell_type": "code",
   "execution_count": 24,
   "metadata": {},
   "outputs": [
    {
     "name": "stdout",
     "output_type": "stream",
     "text": [
      "No Armstrong number found in the given range!!\n"
     ]
    }
   ],
   "source": [
    "num = 1042000\n",
    "while num <= 702648265:\n",
    "    temp = num\n",
    "    sum = 0\n",
    "    while temp > 0:\n",
    "        digit = temp % 10\n",
    "        sum = sum + digit**3\n",
    "        temp = temp//10\n",
    "    if sum == num:\n",
    "        print(\"The first Armstrong number in the given range is\" + \" \" + str(num))\n",
    "        break\n",
    "    num = num + 1\n",
    "else:\n",
    "    print(\"No Armstrong number found in the given range!!\")"
   ]
  }
 ],
 "metadata": {
  "kernelspec": {
   "display_name": "Python 3",
   "language": "python",
   "name": "python3"
  },
  "language_info": {
   "codemirror_mode": {
    "name": "ipython",
    "version": 3
   },
   "file_extension": ".py",
   "mimetype": "text/x-python",
   "name": "python",
   "nbconvert_exporter": "python",
   "pygments_lexer": "ipython3",
   "version": "3.8.3"
  }
 },
 "nbformat": 4,
 "nbformat_minor": 4
}
